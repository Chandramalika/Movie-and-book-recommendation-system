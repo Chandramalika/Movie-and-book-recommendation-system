{
  "nbformat": 4,
  "nbformat_minor": 0,
  "metadata": {
    "colab": {
      "provenance": []
    },
    "kernelspec": {
      "name": "python3",
      "display_name": "Python 3"
    },
    "language_info": {
      "name": "python"
    }
  },
  "cells": [
    {
      "cell_type": "code",
      "source": [
        "!pip install rake-nltk"
      ],
      "metadata": {
        "colab": {
          "base_uri": "https://localhost:8080/"
        },
        "id": "D2siIHzV55hU",
        "outputId": "3282ce8e-9f9f-45a6-c926-7f15a93a20f2"
      },
      "execution_count": null,
      "outputs": [
        {
          "output_type": "stream",
          "name": "stdout",
          "text": [
            "Looking in indexes: https://pypi.org/simple, https://us-python.pkg.dev/colab-wheels/public/simple/\n",
            "Collecting rake-nltk\n",
            "  Downloading rake_nltk-1.0.6-py3-none-any.whl (9.1 kB)\n",
            "Requirement already satisfied: nltk<4.0.0,>=3.6.2 in /usr/local/lib/python3.7/dist-packages (from rake-nltk) (3.7)\n",
            "Requirement already satisfied: tqdm in /usr/local/lib/python3.7/dist-packages (from nltk<4.0.0,>=3.6.2->rake-nltk) (4.64.1)\n",
            "Requirement already satisfied: click in /usr/local/lib/python3.7/dist-packages (from nltk<4.0.0,>=3.6.2->rake-nltk) (7.1.2)\n",
            "Requirement already satisfied: regex>=2021.8.3 in /usr/local/lib/python3.7/dist-packages (from nltk<4.0.0,>=3.6.2->rake-nltk) (2022.6.2)\n",
            "Requirement already satisfied: joblib in /usr/local/lib/python3.7/dist-packages (from nltk<4.0.0,>=3.6.2->rake-nltk) (1.2.0)\n",
            "Installing collected packages: rake-nltk\n",
            "Successfully installed rake-nltk-1.0.6\n"
          ]
        }
      ]
    },
    {
      "cell_type": "code",
      "execution_count": 45,
      "metadata": {
        "id": "EfNrqlOkQd-o"
      },
      "outputs": [],
      "source": [
        "import pandas as pd\n",
        "import numpy as np\n",
        "\n",
        "import matplotlib.pyplot as plt\n",
        "%matplotlib inline\n",
        "\n",
        "import seaborn as sns\n",
        "import string\n",
        "from rake_nltk import Rake\n",
        "from nltk.tokenize import wordpunct_tokenize\n",
        "from nltk.corpus import stopwords\n",
        "\n",
        "from sklearn.feature_extraction.text import CountVectorizer\n",
        "from sklearn.metrics.pairwise import cosine_similarity"
      ]
    },
    {
      "cell_type": "code",
      "source": [
        "book_data = pd.read_csv('/content/pages-1-100.tsv', sep='\\t')"
      ],
      "metadata": {
        "id": "Npc7bD6234yC"
      },
      "execution_count": null,
      "outputs": []
    },
    {
      "cell_type": "code",
      "source": [
        "book_data.isnull().sum().sort_values(ascending=False)"
      ],
      "metadata": {
        "colab": {
          "base_uri": "https://localhost:8080/"
        },
        "id": "kJKJQxbfRn34",
        "outputId": "be14ef65-2eba-4b86-e730-9f025f8a7f6d"
      },
      "execution_count": 39,
      "outputs": [
        {
          "output_type": "execute_result",
          "data": {
            "text/plain": [
              "series             4536\n",
              "original_title      949\n",
              "language            256\n",
              "genres               92\n",
              "description          64\n",
              "index                 0\n",
              "title                 0\n",
              "authors               0\n",
              "avg_rating            0\n",
              "num_ratings           0\n",
              "num_reviews           0\n",
              "url                   0\n",
              "weighted_rating       0\n",
              "soup                  0\n",
              "dtype: int64"
            ]
          },
          "metadata": {},
          "execution_count": 39
        }
      ]
    },
    {
      "cell_type": "code",
      "source": [
        "# Split all strings and manipulate so that we have an index per row repeated as many times as there is genres for that entry.\n",
        "split_genres = book_data.loc[book_data.genres.notnull(), 'genres'].str.split(',', expand=True).stack().reset_index(level=-1, drop=True)\n",
        "# Count how many entries exist per category and sort them.\n",
        "split_genres_counts = split_genres.value_counts().sort_values(ascending=False)\n",
        "\n",
        "# Plot the top 5.\n",
        "sns.barplot(y=split_genres_counts[:5], x=split_genres_counts.index[:5])\n",
        "sns.despine()\n",
        "plt.xlabel('Genre')\n",
        "plt.ylabel('Amount')\n",
        "plt.title('Top 5 genres by amount')\n",
        "plt.show()\n",
        "\n",
        "# And the bottom 5.\n",
        "g = sns.barplot(y=split_genres_counts[-5:], x=split_genres_counts.index[-5:])\n",
        "g.set_xticklabels(g.get_xticklabels(), rotation=15, ha='center')\n",
        "sns.despine()\n",
        "plt.xlabel('Genre')\n",
        "plt.ylabel('Amount')\n",
        "plt.title('Bottom 5 genres by amount')\n",
        "plt.show()"
      ],
      "metadata": {
        "colab": {
          "base_uri": "https://localhost:8080/",
          "height": 609
        },
        "id": "ZxDNtWqGRrLS",
        "outputId": "3323d007-ddab-41eb-cf61-017d624fb795"
      },
      "execution_count": 46,
      "outputs": [
        {
          "output_type": "display_data",
          "data": {
            "text/plain": [
              "<Figure size 432x288 with 1 Axes>"
            ],
            "image/png": "[encoded data removed]"
          },
          "metadata": {
            "needs_background": "light"
          }
        },
        {
          "output_type": "display_data",
          "data": {
            "text/plain": [
              "<Figure size 432x288 with 1 Axes>"
            ],
            "image/png": "[encoded data removed]"
          },
          "metadata": {
            "needs_background": "light"
          }
        }
      ]
    },
    {
      "cell_type": "code",
      "source": [
        "# Split all strings and manipulate so that we have an index per row repeated as many times as there is genres for that entry.\n",
        "split_authors = book_data.loc[book_data.authors.notnull(), 'authors'].str.split(',', expand=True).stack().reset_index(level=-1, drop=True)\n",
        "# Count how many entries exist per category and sort them.\n",
        "split_authors_counts = split_authors.value_counts().sort_values(ascending=False)\n",
        "\n",
        "# Plot the top 5.\n",
        "sns.barplot(y=split_authors_counts[:5], x=split_authors_counts.index[:5])\n",
        "sns.despine()\n",
        "plt.xlabel('Authors')\n",
        "plt.ylabel('Popularity')\n",
        "plt.title('Top 5 authors by popularity')\n",
        "plt.show()\n",
        "\n",
        "# And the bottom 5.\n",
        "g = sns.barplot(y=split_authors_counts[-5:], x=split_authors_counts.index[-5:])\n",
        "g.set_xticklabels(g.get_xticklabels(), rotation=15, ha='center')\n",
        "sns.despine()\n",
        "plt.xlabel('Authors')\n",
        "plt.ylabel('Popularity')\n",
        "plt.title('Bottom authors by popularity')\n",
        "plt.show()"
      ],
      "metadata": {
        "colab": {
          "base_uri": "https://localhost:8080/",
          "height": 603
        },
        "id": "sJ-dPdG5SIt9",
        "outputId": "a32ae650-e762-4e1e-8d84-daf3189e4c17"
      },
      "execution_count": 48,
      "outputs": [
        {
          "output_type": "display_data",
          "data": {
            "text/plain": [
              "<Figure size 432x288 with 1 Axes>"
            ],
            "image/png": "[encoded data removed]"
          },
          "metadata": {
            "needs_background": "light"
          }
        },
        {
          "output_type": "display_data",
          "data": {
            "text/plain": [
              "<Figure size 432x288 with 1 Axes>"
            ],
            "image/png": "[encoded data removed]"
          },
          "metadata": {
            "needs_background": "light"
          }
        }
      ]
    },
    {
      "cell_type": "markdown",
      "source": [
        "Removing Duplicates"
      ],
      "metadata": {
        "id": "WTH9S0487jX_"
      }
    },
    {
      "cell_type": "code",
      "source": [
        "book_data.drop_duplicates(subset='title', inplace=True)\n",
        "\n",
        "# Resetting the index \n",
        "book_data = book_data.reset_index()"
      ],
      "metadata": {
        "id": "2YmtuQyg34uc"
      },
      "execution_count": null,
      "outputs": []
    },
    {
      "cell_type": "markdown",
      "source": [
        "Weighted Rating And Top Books"
      ],
      "metadata": {
        "id": "SkS17VIK79xu"
      }
    },
    {
      "cell_type": "markdown",
      "source": [
        "Weighted Rating = (v/v+m)*R+(m/v+m)*C"
      ],
      "metadata": {
        "id": "LIDcdJYk8Xvp"
      }
    },
    {
      "cell_type": "markdown",
      "source": [
        "where\n",
        "\n",
        "R is the average rating for the movie (mean).\n",
        "\n",
        "v is the number of votes for the movie.\n",
        "\n",
        "m is the minimum number of votes to be listed (25,000 in this case).\n",
        "\n",
        "C is the mean vote across the whole report."
      ],
      "metadata": {
        "id": "hkwPqrXb8NOJ"
      }
    },
    {
      "cell_type": "code",
      "source": [
        "C = book_data['avg_rating'].mean()\n",
        "C"
      ],
      "metadata": {
        "colab": {
          "base_uri": "https://localhost:8080/"
        },
        "id": "ySRfdfPr34r3",
        "outputId": "5bbf4b4d-da99-471e-dfbc-6d43bb226791"
      },
      "execution_count": null,
      "outputs": [
        {
          "output_type": "execute_result",
          "data": {
            "text/plain": [
              "4.052728995578016"
            ]
          },
          "metadata": {},
          "execution_count": 11
        }
      ]
    },
    {
      "cell_type": "code",
      "source": [
        "m = book_data['num_ratings'].quantile(0.1)\n",
        "m"
      ],
      "metadata": {
        "colab": {
          "base_uri": "https://localhost:8080/"
        },
        "id": "gFn8B3wm34oz",
        "outputId": "b9631eab-2008-4848-aa4a-598a315728b4"
      },
      "execution_count": null,
      "outputs": [
        {
          "output_type": "execute_result",
          "data": {
            "text/plain": [
              "2421.9000000000005"
            ]
          },
          "metadata": {},
          "execution_count": 12
        }
      ]
    },
    {
      "cell_type": "code",
      "source": [
        "def weighted_rating(book, m, C):\n",
        "    # Average rating for the book.\n",
        "    R = book['avg_rating']\n",
        "    # Total number of votes for the book.\n",
        "    v = book['num_ratings']\n",
        "    # IMDB formula.\n",
        "    return (v / (v+m) * R) + (m / (m+v) * C)\n",
        "\n",
        "# Calculating the weighted rating for books that are within our threshold.\n",
        "book_data.loc[book_data.num_ratings > m, 'weighted_rating'] = book_data.loc[book_data.num_ratings > m].apply(lambda x: weighted_rating(x, m, C), axis=1)\n",
        "\n",
        "# Filling the NaN values (i.e., books lower than our threshold) with a zero score.\n",
        "book_data['weighted_rating'].fillna(0, inplace=True) "
      ],
      "metadata": {
        "id": "h7DsQAkp34mH"
      },
      "execution_count": null,
      "outputs": []
    },
    {
      "cell_type": "code",
      "source": [
        "book_data.sort_values('weighted_rating', ascending=False).head(5)"
      ],
      "metadata": {
        "colab": {
          "base_uri": "https://localhost:8080/",
          "height": 652
        },
        "id": "gI7eVk2434jV",
        "outputId": "ddd3518c-a043-4a6c-ce32-a8daf6baa963"
      },
      "execution_count": null,
      "outputs": [
        {
          "output_type": "execute_result",
          "data": {
            "text/plain": [
              "      index                                              title  \\\n",
              "1525   1539                     The Complete Calvin and Hobbes   \n",
              "982     988                                  Words of Radiance   \n",
              "6306   6538  Harry Potter Boxed Set, Books 1-5 (Harry Potte...   \n",
              "1469   1481                        Harry Potter Series Box Set   \n",
              "5288   5455                               It's a Magical World   \n",
              "\n",
              "                      original_title                  series language  \\\n",
              "1525  The Complete Calvin and Hobbes       Calvin and Hobbes  English   \n",
              "982                Words of Radiance  The Stormlight Archive  English   \n",
              "6306                             NaN                     NaN  English   \n",
              "1469                             NaN            Harry Potter  English   \n",
              "5288            It's a Magical World       Calvin and Hobbes  English   \n",
              "\n",
              "                                       authors  avg_rating  num_ratings  \\\n",
              "1525                            Bill Watterson        4.82        33322   \n",
              "982                          Brandon Sanderson        4.76       172432   \n",
              "6306  J.K. Rowling,Mary GrandPré (Illustrator)        4.78        39132   \n",
              "1469                              J.K. Rowling        4.74       234260   \n",
              "5288                            Bill Watterson        4.76        25119   \n",
              "\n",
              "      num_reviews                                             genres  \\\n",
              "1525          961  Sequential Art,Comics,Humor,Sequential Art,Gra...   \n",
              "982         10541  Fantasy,Fiction,Fantasy,Epic Fantasy,Fantasy,H...   \n",
              "6306          162          Fantasy,Young Adult,Fiction,Fantasy,Magic   \n",
              "1469         7065                        Fantasy,Young Adult,Fiction   \n",
              "5288          334  Sequential Art,Comics,Humor,Fiction,Sequential...   \n",
              "\n",
              "                                            description  \\\n",
              "1525  [   Box Set | Book One | Book Two | Book Three...   \n",
              "982   From #1 New York Times bestselling author Bran...   \n",
              "6306  Box Set containing Harry Potter and the Sorcer...   \n",
              "1469  Over 4000 pages of Harry Potter and his world,...   \n",
              "5288  When cartoonist Bill Watterson announced that ...   \n",
              "\n",
              "                                                    url  weighted_rating  \n",
              "1525  https://www.goodreads.com/book/show/24812.The_...         4.768012  \n",
              "982   https://www.goodreads.com/book/show/17332218-w...         4.750204  \n",
              "6306  https://www.goodreads.com/book/show/8.Harry_Po...         4.737612  \n",
              "1469  https://www.goodreads.com/book/show/862041.Har...         4.732967  \n",
              "5288  https://www.goodreads.com/book/show/24814.It_s...         4.697804  "
            ],
            "text/html": [
              "\n",
              "  <div id=\"df-07244fb2-496c-43bd-b6b6-7ab8706479f1\">\n",
              "    <div class=\"colab-df-container\">\n",
              "      <div>\n",
              "<style scoped>\n",
              "    .dataframe tbody tr th:only-of-type {\n",
              "        vertical-align: middle;\n",
              "    }\n",
              "\n",
              "    .dataframe tbody tr th {\n",
              "        vertical-align: top;\n",
              "    }\n",
              "\n",
              "    .dataframe thead th {\n",
              "        text-align: right;\n",
              "    }\n",
              "</style>\n",
              "<table border=\"1\" class=\"dataframe\">\n",
              "  <thead>\n",
              "    <tr style=\"text-align: right;\">\n",
              "      <th></th>\n",
              "      <th>index</th>\n",
              "      <th>title</th>\n",
              "      <th>original_title</th>\n",
              "      <th>series</th>\n",
              "      <th>language</th>\n",
              "      <th>authors</th>\n",
              "      <th>avg_rating</th>\n",
              "      <th>num_ratings</th>\n",
              "      <th>num_reviews</th>\n",
              "      <th>genres</th>\n",
              "      <th>description</th>\n",
              "      <th>url</th>\n",
              "      <th>weighted_rating</th>\n",
              "    </tr>\n",
              "  </thead>\n",
              "  <tbody>\n",
              "    <tr>\n",
              "      <th>1525</th>\n",
              "      <td>1539</td>\n",
              "      <td>The Complete Calvin and Hobbes</td>\n",
              "      <td>The Complete Calvin and Hobbes</td>\n",
              "      <td>Calvin and Hobbes</td>\n",
              "      <td>English</td>\n",
              "      <td>Bill Watterson</td>\n",
              "      <td>4.82</td>\n",
              "      <td>33322</td>\n",
              "      <td>961</td>\n",
              "      <td>Sequential Art,Comics,Humor,Sequential Art,Gra...</td>\n",
              "      <td>[   Box Set | Book One | Book Two | Book Three...</td>\n",
              "      <td>https://www.goodreads.com/book/show/24812.The_...</td>\n",
              "      <td>4.768012</td>\n",
              "    </tr>\n",
              "    <tr>\n",
              "      <th>982</th>\n",
              "      <td>988</td>\n",
              "      <td>Words of Radiance</td>\n",
              "      <td>Words of Radiance</td>\n",
              "      <td>The Stormlight Archive</td>\n",
              "      <td>English</td>\n",
              "      <td>Brandon Sanderson</td>\n",
              "      <td>4.76</td>\n",
              "      <td>172432</td>\n",
              "      <td>10541</td>\n",
              "      <td>Fantasy,Fiction,Fantasy,Epic Fantasy,Fantasy,H...</td>\n",
              "      <td>From #1 New York Times bestselling author Bran...</td>\n",
              "      <td>https://www.goodreads.com/book/show/17332218-w...</td>\n",
              "      <td>4.750204</td>\n",
              "    </tr>\n",
              "    <tr>\n",
              "      <th>6306</th>\n",
              "      <td>6538</td>\n",
              "      <td>Harry Potter Boxed Set, Books 1-5 (Harry Potte...</td>\n",
              "      <td>NaN</td>\n",
              "      <td>NaN</td>\n",
              "      <td>English</td>\n",
              "      <td>J.K. Rowling,Mary GrandPré (Illustrator)</td>\n",
              "      <td>4.78</td>\n",
              "      <td>39132</td>\n",
              "      <td>162</td>\n",
              "      <td>Fantasy,Young Adult,Fiction,Fantasy,Magic</td>\n",
              "      <td>Box Set containing Harry Potter and the Sorcer...</td>\n",
              "      <td>https://www.goodreads.com/book/show/8.Harry_Po...</td>\n",
              "      <td>4.737612</td>\n",
              "    </tr>\n",
              "    <tr>\n",
              "      <th>1469</th>\n",
              "      <td>1481</td>\n",
              "      <td>Harry Potter Series Box Set</td>\n",
              "      <td>NaN</td>\n",
              "      <td>Harry Potter</td>\n",
              "      <td>English</td>\n",
              "      <td>J.K. Rowling</td>\n",
              "      <td>4.74</td>\n",
              "      <td>234260</td>\n",
              "      <td>7065</td>\n",
              "      <td>Fantasy,Young Adult,Fiction</td>\n",
              "      <td>Over 4000 pages of Harry Potter and his world,...</td>\n",
              "      <td>https://www.goodreads.com/book/show/862041.Har...</td>\n",
              "      <td>4.732967</td>\n",
              "    </tr>\n",
              "    <tr>\n",
              "      <th>5288</th>\n",
              "      <td>5455</td>\n",
              "      <td>It's a Magical World</td>\n",
              "      <td>It's a Magical World</td>\n",
              "      <td>Calvin and Hobbes</td>\n",
              "      <td>English</td>\n",
              "      <td>Bill Watterson</td>\n",
              "      <td>4.76</td>\n",
              "      <td>25119</td>\n",
              "      <td>334</td>\n",
              "      <td>Sequential Art,Comics,Humor,Fiction,Sequential...</td>\n",
              "      <td>When cartoonist Bill Watterson announced that ...</td>\n",
              "      <td>https://www.goodreads.com/book/show/24814.It_s...</td>\n",
              "      <td>4.697804</td>\n",
              "    </tr>\n",
              "  </tbody>\n",
              "</table>\n",
              "</div>\n",
              "      <button class=\"colab-df-convert\" onclick=\"convertToInteractive('df-07244fb2-496c-43bd-b6b6-7ab8706479f1')\"\n",
              "              title=\"Convert this dataframe to an interactive table.\"\n",
              "              style=\"display:none;\">\n",
              "        \n",
              "  <svg xmlns=\"http://www.w3.org/2000/svg\" height=\"24px\"viewBox=\"0 0 24 24\"\n",
              "       width=\"24px\">\n",
              "    <path d=\"M0 0h24v24H0V0z\" fill=\"none\"/>\n",
              "    <path d=\"M18.56 5.44l.94 2.06.94-2.06 2.06-.94-2.06-.94-.94-2.06-.94 2.06-2.06.94zm-11 1L8.5 8.5l.94-2.06 2.06-.94-2.06-.94L8.5 2.5l-.94 2.06-2.06.94zm10 10l.94 2.06.94-2.06 2.06-.94-2.06-.94-.94-2.06-.94 2.06-2.06.94z\"/><path d=\"M17.41 7.96l-1.37-1.37c-.4-.4-.92-.59-1.43-.59-.52 0-1.04.2-1.43.59L10.3 9.45l-7.72 7.72c-.78.78-.78 2.05 0 2.83L4 21.41c.39.39.9.59 1.41.59.51 0 1.02-.2 1.41-.59l7.78-7.78 2.81-2.81c.8-.78.8-2.07 0-2.86zM5.41 20L4 18.59l7.72-7.72 1.47 1.35L5.41 20z\"/>\n",
              "  </svg>\n",
              "      </button>\n",
              "      \n",
              "  <style>\n",
              "    .colab-df-container {\n",
              "      display:flex;\n",
              "      flex-wrap:wrap;\n",
              "      gap: 12px;\n",
              "    }\n",
              "\n",
              "    .colab-df-convert {\n",
              "      background-color: #E8F0FE;\n",
              "      border: none;\n",
              "      border-radius: 50%;\n",
              "      cursor: pointer;\n",
              "      display: none;\n",
              "      fill: #1967D2;\n",
              "      height: 32px;\n",
              "      padding: 0 0 0 0;\n",
              "      width: 32px;\n",
              "    }\n",
              "\n",
              "    .colab-df-convert:hover {\n",
              "      background-color: #E2EBFA;\n",
              "      box-shadow: 0px 1px 2px rgba(60, 64, 67, 0.3), 0px 1px 3px 1px rgba(60, 64, 67, 0.15);\n",
              "      fill: #174EA6;\n",
              "    }\n",
              "\n",
              "    [theme=dark] .colab-df-convert {\n",
              "      background-color: #3B4455;\n",
              "      fill: #D2E3FC;\n",
              "    }\n",
              "\n",
              "    [theme=dark] .colab-df-convert:hover {\n",
              "      background-color: #434B5C;\n",
              "      box-shadow: 0px 1px 3px 1px rgba(0, 0, 0, 0.15);\n",
              "      filter: drop-shadow(0px 1px 2px rgba(0, 0, 0, 0.3));\n",
              "      fill: #FFFFFF;\n",
              "    }\n",
              "  </style>\n",
              "\n",
              "      <script>\n",
              "        const buttonEl =\n",
              "          document.querySelector('#df-07244fb2-496c-43bd-b6b6-7ab8706479f1 button.colab-df-convert');\n",
              "        buttonEl.style.display =\n",
              "          google.colab.kernel.accessAllowed ? 'block' : 'none';\n",
              "\n",
              "        async function convertToInteractive(key) {\n",
              "          const element = document.querySelector('#df-07244fb2-496c-43bd-b6b6-7ab8706479f1');\n",
              "          const dataTable =\n",
              "            await google.colab.kernel.invokeFunction('convertToInteractive',\n",
              "                                                     [key], {});\n",
              "          if (!dataTable) return;\n",
              "\n",
              "          const docLinkHtml = 'Like what you see? Visit the ' +\n",
              "            '<a target=\"_blank\" href=https://colab.research.google.com/notebooks/data_table.ipynb>data table notebook</a>'\n",
              "            + ' to learn more about interactive tables.';\n",
              "          element.innerHTML = '';\n",
              "          dataTable['output_type'] = 'display_data';\n",
              "          await google.colab.output.renderOutput(dataTable, element);\n",
              "          const docLink = document.createElement('div');\n",
              "          docLink.innerHTML = docLinkHtml;\n",
              "          element.appendChild(docLink);\n",
              "        }\n",
              "      </script>\n",
              "    </div>\n",
              "  </div>\n",
              "  "
            ]
          },
          "metadata": {},
          "execution_count": 14
        }
      ]
    },
    {
      "cell_type": "code",
      "source": [
        "book_data.sort_values('weighted_rating', ascending=False).tail(5)"
      ],
      "metadata": {
        "colab": {
          "base_uri": "https://localhost:8080/",
          "height": 582
        },
        "id": "1jkqRrxQ34gy",
        "outputId": "9f6604e7-d592-4058-9fad-ded10da00a93"
      },
      "execution_count": null,
      "outputs": [
        {
          "output_type": "execute_result",
          "data": {
            "text/plain": [
              "      index                                              title  \\\n",
              "6308   6540                               Awakening Inner Guru   \n",
              "6302   6534  30 Pieces of Gold: Self Growth - How to use In...   \n",
              "6291   6520                                           The Pace   \n",
              "6282   6511                                   A Midnight Clear   \n",
              "4749   4890                                  Death of the Body   \n",
              "\n",
              "        original_title          series language  \\\n",
              "6308               NaN             NaN  English   \n",
              "6302               NaN             NaN  English   \n",
              "6291          The Pace        The Pace  English   \n",
              "6282  A Midnight Clear             NaN  English   \n",
              "4749               NaN  Crossing Death  English   \n",
              "\n",
              "                                   authors  avg_rating  num_ratings  \\\n",
              "6308                   Banani Ray,Amit Ray        4.78          104   \n",
              "6302  Ron Millicent,Millie Parker (Editor)        4.31          128   \n",
              "6291                        Shelena Shorts        3.70         1409   \n",
              "6282                       William Wharton        4.18         1391   \n",
              "4749                     Rick Chiantaretto        3.82          217   \n",
              "\n",
              "      num_reviews                                             genres  \\\n",
              "6308           24               Spirituality,Inspirational,Self Help   \n",
              "6302            1  Novels,Inspirational,Contemporary,Adult,Self H...   \n",
              "6291          258  Young Adult,Fantasy,Romance,Fantasy,Paranormal...   \n",
              "6282           66  Fiction,Historical,Historical Fiction,War,War,...   \n",
              "4749           74  Fantasy,Fantasy,Paranormal,Fantasy,Urban Fanta...   \n",
              "\n",
              "                                            description  \\\n",
              "6308  Awakening Inner Guru is a clear and straightfo...   \n",
              "6302  Inspirational Quotes – Hah - Do They Really Wo...   \n",
              "6291  Weston Wilson is not immortal and he is of thi...   \n",
              "6282  Set in the Ardennes Forest on Christmas Eve 19...   \n",
              "4749  I grew up in a world of magic. By the time I w...   \n",
              "\n",
              "                                                    url  weighted_rating  \n",
              "6308  https://www.goodreads.com/book/show/8596181-aw...              0.0  \n",
              "6302  https://www.goodreads.com/book/show/27467291-3...              0.0  \n",
              "6291  https://www.goodreads.com/book/show/6599113-th...              0.0  \n",
              "6282  https://www.goodreads.com/book/show/720234.A_M...              0.0  \n",
              "4749  https://www.goodreads.com/book/show/18624197-d...              0.0  "
            ],
            "text/html": [
              "\n",
              "  <div id=\"df-e2c0ee92-fca6-476e-b508-53fce5ac71d5\">\n",
              "    <div class=\"colab-df-container\">\n",
              "      <div>\n",
              "<style scoped>\n",
              "    .dataframe tbody tr th:only-of-type {\n",
              "        vertical-align: middle;\n",
              "    }\n",
              "\n",
              "    .dataframe tbody tr th {\n",
              "        vertical-align: top;\n",
              "    }\n",
              "\n",
              "    .dataframe thead th {\n",
              "        text-align: right;\n",
              "    }\n",
              "</style>\n",
              "<table border=\"1\" class=\"dataframe\">\n",
              "  <thead>\n",
              "    <tr style=\"text-align: right;\">\n",
              "      <th></th>\n",
              "      <th>index</th>\n",
              "      <th>title</th>\n",
              "      <th>original_title</th>\n",
              "      <th>series</th>\n",
              "      <th>language</th>\n",
              "      <th>authors</th>\n",
              "      <th>avg_rating</th>\n",
              "      <th>num_ratings</th>\n",
              "      <th>num_reviews</th>\n",
              "      <th>genres</th>\n",
              "      <th>description</th>\n",
              "      <th>url</th>\n",
              "      <th>weighted_rating</th>\n",
              "    </tr>\n",
              "  </thead>\n",
              "  <tbody>\n",
              "    <tr>\n",
              "      <th>6308</th>\n",
              "      <td>6540</td>\n",
              "      <td>Awakening Inner Guru</td>\n",
              "      <td>NaN</td>\n",
              "      <td>NaN</td>\n",
              "      <td>English</td>\n",
              "      <td>Banani Ray,Amit Ray</td>\n",
              "      <td>4.78</td>\n",
              "      <td>104</td>\n",
              "      <td>24</td>\n",
              "      <td>Spirituality,Inspirational,Self Help</td>\n",
              "      <td>Awakening Inner Guru is a clear and straightfo...</td>\n",
              "      <td>https://www.goodreads.com/book/show/8596181-aw...</td>\n",
              "      <td>0.0</td>\n",
              "    </tr>\n",
              "    <tr>\n",
              "      <th>6302</th>\n",
              "      <td>6534</td>\n",
              "      <td>30 Pieces of Gold: Self Growth - How to use In...</td>\n",
              "      <td>NaN</td>\n",
              "      <td>NaN</td>\n",
              "      <td>English</td>\n",
              "      <td>Ron Millicent,Millie Parker (Editor)</td>\n",
              "      <td>4.31</td>\n",
              "      <td>128</td>\n",
              "      <td>1</td>\n",
              "      <td>Novels,Inspirational,Contemporary,Adult,Self H...</td>\n",
              "      <td>Inspirational Quotes – Hah - Do They Really Wo...</td>\n",
              "      <td>https://www.goodreads.com/book/show/27467291-3...</td>\n",
              "      <td>0.0</td>\n",
              "    </tr>\n",
              "    <tr>\n",
              "      <th>6291</th>\n",
              "      <td>6520</td>\n",
              "      <td>The Pace</td>\n",
              "      <td>The Pace</td>\n",
              "      <td>The Pace</td>\n",
              "      <td>English</td>\n",
              "      <td>Shelena Shorts</td>\n",
              "      <td>3.70</td>\n",
              "      <td>1409</td>\n",
              "      <td>258</td>\n",
              "      <td>Young Adult,Fantasy,Romance,Fantasy,Paranormal...</td>\n",
              "      <td>Weston Wilson is not immortal and he is of thi...</td>\n",
              "      <td>https://www.goodreads.com/book/show/6599113-th...</td>\n",
              "      <td>0.0</td>\n",
              "    </tr>\n",
              "    <tr>\n",
              "      <th>6282</th>\n",
              "      <td>6511</td>\n",
              "      <td>A Midnight Clear</td>\n",
              "      <td>A Midnight Clear</td>\n",
              "      <td>NaN</td>\n",
              "      <td>English</td>\n",
              "      <td>William Wharton</td>\n",
              "      <td>4.18</td>\n",
              "      <td>1391</td>\n",
              "      <td>66</td>\n",
              "      <td>Fiction,Historical,Historical Fiction,War,War,...</td>\n",
              "      <td>Set in the Ardennes Forest on Christmas Eve 19...</td>\n",
              "      <td>https://www.goodreads.com/book/show/720234.A_M...</td>\n",
              "      <td>0.0</td>\n",
              "    </tr>\n",
              "    <tr>\n",
              "      <th>4749</th>\n",
              "      <td>4890</td>\n",
              "      <td>Death of the Body</td>\n",
              "      <td>NaN</td>\n",
              "      <td>Crossing Death</td>\n",
              "      <td>English</td>\n",
              "      <td>Rick Chiantaretto</td>\n",
              "      <td>3.82</td>\n",
              "      <td>217</td>\n",
              "      <td>74</td>\n",
              "      <td>Fantasy,Fantasy,Paranormal,Fantasy,Urban Fanta...</td>\n",
              "      <td>I grew up in a world of magic. By the time I w...</td>\n",
              "      <td>https://www.goodreads.com/book/show/18624197-d...</td>\n",
              "      <td>0.0</td>\n",
              "    </tr>\n",
              "  </tbody>\n",
              "</table>\n",
              "</div>\n",
              "      <button class=\"colab-df-convert\" onclick=\"convertToInteractive('df-e2c0ee92-fca6-476e-b508-53fce5ac71d5')\"\n",
              "              title=\"Convert this dataframe to an interactive table.\"\n",
              "              style=\"display:none;\">\n",
              "        \n",
              "  <svg xmlns=\"http://www.w3.org/2000/svg\" height=\"24px\"viewBox=\"0 0 24 24\"\n",
              "       width=\"24px\">\n",
              "    <path d=\"M0 0h24v24H0V0z\" fill=\"none\"/>\n",
              "    <path d=\"M18.56 5.44l.94 2.06.94-2.06 2.06-.94-2.06-.94-.94-2.06-.94 2.06-2.06.94zm-11 1L8.5 8.5l.94-2.06 2.06-.94-2.06-.94L8.5 2.5l-.94 2.06-2.06.94zm10 10l.94 2.06.94-2.06 2.06-.94-2.06-.94-.94-2.06-.94 2.06-2.06.94z\"/><path d=\"M17.41 7.96l-1.37-1.37c-.4-.4-.92-.59-1.43-.59-.52 0-1.04.2-1.43.59L10.3 9.45l-7.72 7.72c-.78.78-.78 2.05 0 2.83L4 21.41c.39.39.9.59 1.41.59.51 0 1.02-.2 1.41-.59l7.78-7.78 2.81-2.81c.8-.78.8-2.07 0-2.86zM5.41 20L4 18.59l7.72-7.72 1.47 1.35L5.41 20z\"/>\n",
              "  </svg>\n",
              "      </button>\n",
              "      \n",
              "  <style>\n",
              "    .colab-df-container {\n",
              "      display:flex;\n",
              "      flex-wrap:wrap;\n",
              "      gap: 12px;\n",
              "    }\n",
              "\n",
              "    .colab-df-convert {\n",
              "      background-color: #E8F0FE;\n",
              "      border: none;\n",
              "      border-radius: 50%;\n",
              "      cursor: pointer;\n",
              "      display: none;\n",
              "      fill: #1967D2;\n",
              "      height: 32px;\n",
              "      padding: 0 0 0 0;\n",
              "      width: 32px;\n",
              "    }\n",
              "\n",
              "    .colab-df-convert:hover {\n",
              "      background-color: #E2EBFA;\n",
              "      box-shadow: 0px 1px 2px rgba(60, 64, 67, 0.3), 0px 1px 3px 1px rgba(60, 64, 67, 0.15);\n",
              "      fill: #174EA6;\n",
              "    }\n",
              "\n",
              "    [theme=dark] .colab-df-convert {\n",
              "      background-color: #3B4455;\n",
              "      fill: #D2E3FC;\n",
              "    }\n",
              "\n",
              "    [theme=dark] .colab-df-convert:hover {\n",
              "      background-color: #434B5C;\n",
              "      box-shadow: 0px 1px 3px 1px rgba(0, 0, 0, 0.15);\n",
              "      filter: drop-shadow(0px 1px 2px rgba(0, 0, 0, 0.3));\n",
              "      fill: #FFFFFF;\n",
              "    }\n",
              "  </style>\n",
              "\n",
              "      <script>\n",
              "        const buttonEl =\n",
              "          document.querySelector('#df-e2c0ee92-fca6-476e-b508-53fce5ac71d5 button.colab-df-convert');\n",
              "        buttonEl.style.display =\n",
              "          google.colab.kernel.accessAllowed ? 'block' : 'none';\n",
              "\n",
              "        async function convertToInteractive(key) {\n",
              "          const element = document.querySelector('#df-e2c0ee92-fca6-476e-b508-53fce5ac71d5');\n",
              "          const dataTable =\n",
              "            await google.colab.kernel.invokeFunction('convertToInteractive',\n",
              "                                                     [key], {});\n",
              "          if (!dataTable) return;\n",
              "\n",
              "          const docLinkHtml = 'Like what you see? Visit the ' +\n",
              "            '<a target=\"_blank\" href=https://colab.research.google.com/notebooks/data_table.ipynb>data table notebook</a>'\n",
              "            + ' to learn more about interactive tables.';\n",
              "          element.innerHTML = '';\n",
              "          dataTable['output_type'] = 'display_data';\n",
              "          await google.colab.output.renderOutput(dataTable, element);\n",
              "          const docLink = document.createElement('div');\n",
              "          docLink.innerHTML = docLinkHtml;\n",
              "          element.appendChild(docLink);\n",
              "        }\n",
              "      </script>\n",
              "    </div>\n",
              "  </div>\n",
              "  "
            ]
          },
          "metadata": {},
          "execution_count": 15
        }
      ]
    },
    {
      "cell_type": "code",
      "source": [
        "# A little cleanup.\n",
        "del C\n",
        "del m"
      ],
      "metadata": {
        "id": "SriLmmBa9BKW"
      },
      "execution_count": null,
      "outputs": []
    },
    {
      "cell_type": "markdown",
      "source": [
        "##Content-Based Recommender System"
      ],
      "metadata": {
        "id": "OOanBDpo9HOC"
      }
    },
    {
      "cell_type": "code",
      "source": [
        "import nltk\n",
        "nltk.download(\"stopwords\")\n",
        "nltk.download('punkt')"
      ],
      "metadata": {
        "colab": {
          "base_uri": "https://localhost:8080/"
        },
        "id": "iKazgA9y_Tov",
        "outputId": "9324eaa6-1989-4ff1-a62e-360f0036c7b2"
      },
      "execution_count": null,
      "outputs": [
        {
          "output_type": "stream",
          "name": "stderr",
          "text": [
            "[nltk_data] Downloading package stopwords to /root/nltk_data...\n",
            "[nltk_data]   Package stopwords is already up-to-date!\n",
            "[nltk_data] Downloading package punkt to /root/nltk_data...\n",
            "[nltk_data]   Unzipping tokenizers/punkt.zip.\n"
          ]
        },
        {
          "output_type": "execute_result",
          "data": {
            "text/plain": [
              "True"
            ]
          },
          "metadata": {},
          "execution_count": 25
        }
      ]
    },
    {
      "cell_type": "code",
      "source": [
        "# Takes a string and returns an array of its processed words.\n",
        "def clean_string(s):\n",
        "    # Removing stopwords and punctuation.\n",
        "    stop = stopwords.words('english') + list(string.punctuation)\n",
        "    return [n for n in wordpunct_tokenize(s.lower()) if n not in stop]"
      ],
      "metadata": {
        "id": "r6U1ejAO9k13"
      },
      "execution_count": null,
      "outputs": []
    },
    {
      "cell_type": "code",
      "source": [
        "def create_soup(x):\n",
        "    title_importance = 1\n",
        "    language_importance = 1\n",
        "    series_importance = 1\n",
        "    authors_importance = 1\n",
        "    genres_importance = 1\n",
        "\n",
        "    soup = ''\n",
        "    \n",
        "    # Keywords from description.\n",
        "    desc = x['description']\n",
        "    if desc is not np.nan:\n",
        "        rake = Rake()\n",
        "        rake.extract_keywords_from_text(desc)\n",
        "        desc_soup = ' '.join(list(rake.get_word_degrees().keys()))\n",
        "        soup = ' '.join(filter(None, [soup, desc_soup]))\n",
        "    \n",
        "    # Title.\n",
        "    title_soup = ' '.join(clean_string(x['title']) * title_importance)\n",
        "    soup = ' '.join(filter(None, [soup, title_soup]))\n",
        "    \n",
        "    # Language.\n",
        "    language = x['language']\n",
        "    if language is not np.nan:\n",
        "        language_soup = ' '.join(clean_string(language) * language_importance)\n",
        "        soup = ' '.join(filter(None, [soup, language_soup]))\n",
        "    \n",
        "    # Series.\n",
        "    series = x['series']\n",
        "    if series is not np.nan:\n",
        "        series_soup = ' '.join(clean_string(series) * series_importance)\n",
        "        soup = ' '.join(filter(None, [soup, series_soup]))\n",
        "\n",
        "    # Authors.\n",
        "    authors = x['authors']\n",
        "    if authors is not np.nan:\n",
        "        # I'm trying to not remove punctuation here but to just set all as spaces. I want to retain (Role).\n",
        "        # Providing it's consistent across entries, this should work.\n",
        "        author_soup = ' '.join([a.lower().replace(' ', '') for a in authors.split(',')] * authors_importance)\n",
        "        soup = ' '.join(filter(None, [soup, author_soup]))\n",
        "    \n",
        "    # Genres.\n",
        "    genres = x['genres']\n",
        "    if genres is not np.nan:\n",
        "        # Almost the same treatment as authors (strip spaces to make matching a bit more likely).\n",
        "        genre_soup = ' '.join([g.lower().replace(' ', '') for g in genres.split(',')] * genres_importance)\n",
        "        soup = ' '.join(filter(None, [soup, genre_soup]))\n",
        "    \n",
        "    return soup"
      ],
      "metadata": {
        "id": "ZH30xFnM9Dd1"
      },
      "execution_count": null,
      "outputs": []
    },
    {
      "cell_type": "code",
      "source": [
        "book_data['soup'] = book_data.apply(create_soup, axis=1)"
      ],
      "metadata": {
        "id": "bUu0G8pC-3-i"
      },
      "execution_count": null,
      "outputs": []
    },
    {
      "cell_type": "code",
      "source": [
        "book_data.soup.head()"
      ],
      "metadata": {
        "colab": {
          "base_uri": "https://localhost:8080/"
        },
        "id": "pHht1fKF-6Xe",
        "outputId": "eed71317-3138-4916-f83c-0d59ce89e301"
      },
      "execution_count": null,
      "outputs": [
        {
          "output_type": "execute_result",
          "data": {
            "text/plain": [
              "0    procession crosses chaucer pages full life ric...\n",
              "1    1979 tim brien going cacciato — novel vietnam ...\n",
              "2    postmodern visionary also master styles genres...\n",
              "3    suspenseful outlandish absorbing fun novel unl...\n",
              "4    winner national book award fictionnominated cr...\n",
              "Name: soup, dtype: object"
            ]
          },
          "metadata": {},
          "execution_count": 27
        }
      ]
    },
    {
      "cell_type": "markdown",
      "source": [
        "Creating the similarity matrix between all books based on our soup."
      ],
      "metadata": {
        "id": "dzyqTQXe_qns"
      }
    },
    {
      "cell_type": "code",
      "source": [
        "count_vec = CountVectorizer()\n",
        "count_matrix = count_vec.fit_transform(book_data['soup'])\n",
        "\n",
        "from sklearn.metrics.pairwise import linear_kernel\n",
        "cos_sim = cosine_similarity(count_matrix, count_matrix)"
      ],
      "metadata": {
        "id": "1RsIJlnx_pW9"
      },
      "execution_count": null,
      "outputs": []
    },
    {
      "cell_type": "code",
      "source": [
        "cos_sim"
      ],
      "metadata": {
        "colab": {
          "base_uri": "https://localhost:8080/"
        },
        "id": "Pwcqvqb3CfTj",
        "outputId": "36c6c495-a872-42da-e42d-ec4240dcb971"
      },
      "execution_count": null,
      "outputs": [
        {
          "output_type": "execute_result",
          "data": {
            "text/plain": [
              "array([[1.        , 0.17464561, 0.11426651, ..., 0.10249001, 0.0522055 ,\n",
              "        0.0208935 ],\n",
              "       [0.17464561, 1.        , 0.11973687, ..., 0.07607258, 0.07749843,\n",
              "        0.01550807],\n",
              "       [0.11426651, 0.11973687, 1.        , ..., 0.05738476, 0.10439346,\n",
              "        0.01671199],\n",
              "       ...,\n",
              "       [0.10249001, 0.07607258, 0.05738476, ..., 1.        , 0.05305954,\n",
              "        0.17837652],\n",
              "       [0.0522055 , 0.07749843, 0.10439346, ..., 0.05305954, 1.        ,\n",
              "        0.08653327],\n",
              "       [0.0208935 , 0.01550807, 0.01671199, ..., 0.17837652, 0.08653327,\n",
              "        1.        ]])"
            ]
          },
          "metadata": {},
          "execution_count": 36
        }
      ]
    },
    {
      "cell_type": "code",
      "source": [
        "# Reverse lookup of title vs. index.\n",
        "title_to_index = pd.Series(book_data.index, index=book_data['title'])"
      ],
      "metadata": {
        "id": "SpCNbqef_45Y"
      },
      "execution_count": null,
      "outputs": []
    },
    {
      "cell_type": "code",
      "source": [
        "def get_recommendation(title):\n",
        "    idx = title_to_index[title]\n",
        "    #     print(idx)\n",
        "    #     print(book_data.loc[idx].soup)\n",
        "    \n",
        "    scores = pd.Series(cos_sim[idx]).sort_values(ascending=False)\n",
        "    book_indices = list(scores.iloc[1:6].index)\n",
        "    \n",
        "    #     scores = list(enumerate(cos_sim[idx]))\n",
        "    #     scores = sorted(scores, key=lambda x: x[1], reverse=True)\n",
        "    #     scores = scores[1:11]\n",
        "    #     book_indices = [i[0] for i in scores]\n",
        "    #     print(scores[1:11])\n",
        "    return book_data.iloc[book_indices]\n",
        "\n",
        "get_recommendation(\"The Hitchhiker's Guide to the Galaxy\")"
      ],
      "metadata": {
        "colab": {
          "base_uri": "https://localhost:8080/",
          "height": 634
        },
        "id": "E7E9GZ79_zQR",
        "outputId": "763c1aa5-7f08-445d-b082-ea33ea86fd3c"
      },
      "execution_count": null,
      "outputs": [
        {
          "output_type": "execute_result",
          "data": {
            "text/plain": [
              "      index                                              title  \\\n",
              "929     934          The Restaurant at the End of the Universe   \n",
              "1623   1638      The Ultimate Hitchhiker's Guide to the Galaxy   \n",
              "3569   3657  The Hitchhiker's Guide to the Galaxy: A Trilog...   \n",
              "2871   2922                                    Mostly Harmless   \n",
              "814     817                  Life, the Universe and Everything   \n",
              "\n",
              "                                         original_title  \\\n",
              "929           The Restaurant at the End of the Universe   \n",
              "1623  The Ultimate Hitchhiker's Guide: Five Complete...   \n",
              "3569  The Hitchhiker's Guide to the Galaxy: The Tril...   \n",
              "2871                                    Mostly Harmless   \n",
              "814                   Life, the Universe and Everything   \n",
              "\n",
              "                                series language        authors  avg_rating  \\\n",
              "929   Hitchhiker's Guide to the Galaxy  English  Douglas Adams        4.22   \n",
              "1623  Hitchhiker's Guide to the Galaxy  English  Douglas Adams        4.38   \n",
              "3569  Hitchhiker's Guide to the Galaxy  English  Douglas Adams        4.51   \n",
              "2871  Hitchhiker's Guide to the Galaxy  English  Douglas Adams        3.97   \n",
              "814   Hitchhiker's Guide to the Galaxy  English  Douglas Adams        4.20   \n",
              "\n",
              "      num_ratings  num_reviews  \\\n",
              "929        210747         5133   \n",
              "1623       265641         4980   \n",
              "3569        33696          523   \n",
              "2871        99423         2318   \n",
              "814        182318         3099   \n",
              "\n",
              "                                                 genres  \\\n",
              "929   Science Fiction,Fiction,Humor,Fantasy,Humor,Co...   \n",
              "1623     Science Fiction,Fiction,Humor,Fantasy,Classics   \n",
              "3569              Science Fiction,Fiction,Humor,Fantasy   \n",
              "2871  Science Fiction,Fiction,Humor,Fantasy,Humor,Co...   \n",
              "814               Science Fiction,Fiction,Humor,Fantasy   \n",
              "\n",
              "                                            description  \\\n",
              "929   Alternate Cover Edition ISBN 0345418921 (ISBN1...   \n",
              "1623  At last in paperback in one complete volume, h...   \n",
              "3569  Charting the whole of Arthur Dent's odyssey th...   \n",
              "2871  It’s easy to get disheartened when your planet...   \n",
              "814   The unhappy inhabitants of planet Krikkit are ...   \n",
              "\n",
              "                                                    url  weighted_rating  \\\n",
              "929   https://www.goodreads.com/book/show/8695.The_R...         4.218100   \n",
              "1623  https://www.goodreads.com/book/show/13.The_Ult...         4.377043   \n",
              "3569  https://www.goodreads.com/book/show/841628.The...         4.479338   \n",
              "2871  https://www.goodreads.com/book/show/360.Mostly...         3.971967   \n",
              "814   https://www.goodreads.com/book/show/8694.Life_...         4.198069   \n",
              "\n",
              "                                                   soup  \n",
              "929   alternate cover edition isbn 0345418921 isbn13...  \n",
              "1623  last paperback one complete volume five novels...  \n",
              "3569  charting whole arthur dent odyssey space hitch...  \n",
              "2871  ’ easy get disheartened planet blown woman lov...  \n",
              "814   unhappy inhabitants planet krikkit sick lookin...  "
            ],
            "text/html": [
              "\n",
              "  <div id=\"df-a466a625-ffa2-429c-b54c-25729a5432cf\">\n",
              "    <div class=\"colab-df-container\">\n",
              "      <div>\n",
              "<style scoped>\n",
              "    .dataframe tbody tr th:only-of-type {\n",
              "        vertical-align: middle;\n",
              "    }\n",
              "\n",
              "    .dataframe tbody tr th {\n",
              "        vertical-align: top;\n",
              "    }\n",
              "\n",
              "    .dataframe thead th {\n",
              "        text-align: right;\n",
              "    }\n",
              "</style>\n",
              "<table border=\"1\" class=\"dataframe\">\n",
              "  <thead>\n",
              "    <tr style=\"text-align: right;\">\n",
              "      <th></th>\n",
              "      <th>index</th>\n",
              "      <th>title</th>\n",
              "      <th>original_title</th>\n",
              "      <th>series</th>\n",
              "      <th>language</th>\n",
              "      <th>authors</th>\n",
              "      <th>avg_rating</th>\n",
              "      <th>num_ratings</th>\n",
              "      <th>num_reviews</th>\n",
              "      <th>genres</th>\n",
              "      <th>description</th>\n",
              "      <th>url</th>\n",
              "      <th>weighted_rating</th>\n",
              "      <th>soup</th>\n",
              "    </tr>\n",
              "  </thead>\n",
              "  <tbody>\n",
              "    <tr>\n",
              "      <th>929</th>\n",
              "      <td>934</td>\n",
              "      <td>The Restaurant at the End of the Universe</td>\n",
              "      <td>The Restaurant at the End of the Universe</td>\n",
              "      <td>Hitchhiker's Guide to the Galaxy</td>\n",
              "      <td>English</td>\n",
              "      <td>Douglas Adams</td>\n",
              "      <td>4.22</td>\n",
              "      <td>210747</td>\n",
              "      <td>5133</td>\n",
              "      <td>Science Fiction,Fiction,Humor,Fantasy,Humor,Co...</td>\n",
              "      <td>Alternate Cover Edition ISBN 0345418921 (ISBN1...</td>\n",
              "      <td>https://www.goodreads.com/book/show/8695.The_R...</td>\n",
              "      <td>4.218100</td>\n",
              "      <td>alternate cover edition isbn 0345418921 isbn13...</td>\n",
              "    </tr>\n",
              "    <tr>\n",
              "      <th>1623</th>\n",
              "      <td>1638</td>\n",
              "      <td>The Ultimate Hitchhiker's Guide to the Galaxy</td>\n",
              "      <td>The Ultimate Hitchhiker's Guide: Five Complete...</td>\n",
              "      <td>Hitchhiker's Guide to the Galaxy</td>\n",
              "      <td>English</td>\n",
              "      <td>Douglas Adams</td>\n",
              "      <td>4.38</td>\n",
              "      <td>265641</td>\n",
              "      <td>4980</td>\n",
              "      <td>Science Fiction,Fiction,Humor,Fantasy,Classics</td>\n",
              "      <td>At last in paperback in one complete volume, h...</td>\n",
              "      <td>https://www.goodreads.com/book/show/13.The_Ult...</td>\n",
              "      <td>4.377043</td>\n",
              "      <td>last paperback one complete volume five novels...</td>\n",
              "    </tr>\n",
              "    <tr>\n",
              "      <th>3569</th>\n",
              "      <td>3657</td>\n",
              "      <td>The Hitchhiker's Guide to the Galaxy: A Trilog...</td>\n",
              "      <td>The Hitchhiker's Guide to the Galaxy: The Tril...</td>\n",
              "      <td>Hitchhiker's Guide to the Galaxy</td>\n",
              "      <td>English</td>\n",
              "      <td>Douglas Adams</td>\n",
              "      <td>4.51</td>\n",
              "      <td>33696</td>\n",
              "      <td>523</td>\n",
              "      <td>Science Fiction,Fiction,Humor,Fantasy</td>\n",
              "      <td>Charting the whole of Arthur Dent's odyssey th...</td>\n",
              "      <td>https://www.goodreads.com/book/show/841628.The...</td>\n",
              "      <td>4.479338</td>\n",
              "      <td>charting whole arthur dent odyssey space hitch...</td>\n",
              "    </tr>\n",
              "    <tr>\n",
              "      <th>2871</th>\n",
              "      <td>2922</td>\n",
              "      <td>Mostly Harmless</td>\n",
              "      <td>Mostly Harmless</td>\n",
              "      <td>Hitchhiker's Guide to the Galaxy</td>\n",
              "      <td>English</td>\n",
              "      <td>Douglas Adams</td>\n",
              "      <td>3.97</td>\n",
              "      <td>99423</td>\n",
              "      <td>2318</td>\n",
              "      <td>Science Fiction,Fiction,Humor,Fantasy,Humor,Co...</td>\n",
              "      <td>It’s easy to get disheartened when your planet...</td>\n",
              "      <td>https://www.goodreads.com/book/show/360.Mostly...</td>\n",
              "      <td>3.971967</td>\n",
              "      <td>’ easy get disheartened planet blown woman lov...</td>\n",
              "    </tr>\n",
              "    <tr>\n",
              "      <th>814</th>\n",
              "      <td>817</td>\n",
              "      <td>Life, the Universe and Everything</td>\n",
              "      <td>Life, the Universe and Everything</td>\n",
              "      <td>Hitchhiker's Guide to the Galaxy</td>\n",
              "      <td>English</td>\n",
              "      <td>Douglas Adams</td>\n",
              "      <td>4.20</td>\n",
              "      <td>182318</td>\n",
              "      <td>3099</td>\n",
              "      <td>Science Fiction,Fiction,Humor,Fantasy</td>\n",
              "      <td>The unhappy inhabitants of planet Krikkit are ...</td>\n",
              "      <td>https://www.goodreads.com/book/show/8694.Life_...</td>\n",
              "      <td>4.198069</td>\n",
              "      <td>unhappy inhabitants planet krikkit sick lookin...</td>\n",
              "    </tr>\n",
              "  </tbody>\n",
              "</table>\n",
              "</div>\n",
              "      <button class=\"colab-df-convert\" onclick=\"convertToInteractive('df-a466a625-ffa2-429c-b54c-25729a5432cf')\"\n",
              "              title=\"Convert this dataframe to an interactive table.\"\n",
              "              style=\"display:none;\">\n",
              "        \n",
              "  <svg xmlns=\"http://www.w3.org/2000/svg\" height=\"24px\"viewBox=\"0 0 24 24\"\n",
              "       width=\"24px\">\n",
              "    <path d=\"M0 0h24v24H0V0z\" fill=\"none\"/>\n",
              "    <path d=\"M18.56 5.44l.94 2.06.94-2.06 2.06-.94-2.06-.94-.94-2.06-.94 2.06-2.06.94zm-11 1L8.5 8.5l.94-2.06 2.06-.94-2.06-.94L8.5 2.5l-.94 2.06-2.06.94zm10 10l.94 2.06.94-2.06 2.06-.94-2.06-.94-.94-2.06-.94 2.06-2.06.94z\"/><path d=\"M17.41 7.96l-1.37-1.37c-.4-.4-.92-.59-1.43-.59-.52 0-1.04.2-1.43.59L10.3 9.45l-7.72 7.72c-.78.78-.78 2.05 0 2.83L4 21.41c.39.39.9.59 1.41.59.51 0 1.02-.2 1.41-.59l7.78-7.78 2.81-2.81c.8-.78.8-2.07 0-2.86zM5.41 20L4 18.59l7.72-7.72 1.47 1.35L5.41 20z\"/>\n",
              "  </svg>\n",
              "      </button>\n",
              "      \n",
              "  <style>\n",
              "    .colab-df-container {\n",
              "      display:flex;\n",
              "      flex-wrap:wrap;\n",
              "      gap: 12px;\n",
              "    }\n",
              "\n",
              "    .colab-df-convert {\n",
              "      background-color: #E8F0FE;\n",
              "      border: none;\n",
              "      border-radius: 50%;\n",
              "      cursor: pointer;\n",
              "      display: none;\n",
              "      fill: #1967D2;\n",
              "      height: 32px;\n",
              "      padding: 0 0 0 0;\n",
              "      width: 32px;\n",
              "    }\n",
              "\n",
              "    .colab-df-convert:hover {\n",
              "      background-color: #E2EBFA;\n",
              "      box-shadow: 0px 1px 2px rgba(60, 64, 67, 0.3), 0px 1px 3px 1px rgba(60, 64, 67, 0.15);\n",
              "      fill: #174EA6;\n",
              "    }\n",
              "\n",
              "    [theme=dark] .colab-df-convert {\n",
              "      background-color: #3B4455;\n",
              "      fill: #D2E3FC;\n",
              "    }\n",
              "\n",
              "    [theme=dark] .colab-df-convert:hover {\n",
              "      background-color: #434B5C;\n",
              "      box-shadow: 0px 1px 3px 1px rgba(0, 0, 0, 0.15);\n",
              "      filter: drop-shadow(0px 1px 2px rgba(0, 0, 0, 0.3));\n",
              "      fill: #FFFFFF;\n",
              "    }\n",
              "  </style>\n",
              "\n",
              "      <script>\n",
              "        const buttonEl =\n",
              "          document.querySelector('#df-a466a625-ffa2-429c-b54c-25729a5432cf button.colab-df-convert');\n",
              "        buttonEl.style.display =\n",
              "          google.colab.kernel.accessAllowed ? 'block' : 'none';\n",
              "\n",
              "        async function convertToInteractive(key) {\n",
              "          const element = document.querySelector('#df-a466a625-ffa2-429c-b54c-25729a5432cf');\n",
              "          const dataTable =\n",
              "            await google.colab.kernel.invokeFunction('convertToInteractive',\n",
              "                                                     [key], {});\n",
              "          if (!dataTable) return;\n",
              "\n",
              "          const docLinkHtml = 'Like what you see? Visit the ' +\n",
              "            '<a target=\"_blank\" href=https://colab.research.google.com/notebooks/data_table.ipynb>data table notebook</a>'\n",
              "            + ' to learn more about interactive tables.';\n",
              "          element.innerHTML = '';\n",
              "          dataTable['output_type'] = 'display_data';\n",
              "          await google.colab.output.renderOutput(dataTable, element);\n",
              "          const docLink = document.createElement('div');\n",
              "          docLink.innerHTML = docLinkHtml;\n",
              "          element.appendChild(docLink);\n",
              "        }\n",
              "      </script>\n",
              "    </div>\n",
              "  </div>\n",
              "  "
            ]
          },
          "metadata": {},
          "execution_count": 33
        }
      ]
    },
    {
      "cell_type": "code",
      "source": [
        "import pickle"
      ],
      "metadata": {
        "id": "t-6n9-WoAAMS"
      },
      "execution_count": null,
      "outputs": []
    },
    {
      "cell_type": "code",
      "source": [
        "pickle.dump(book_data.to_dict(),open(\"books.pkl\",\"wb\"))"
      ],
      "metadata": {
        "id": "DCesq3pQCPR3"
      },
      "execution_count": null,
      "outputs": []
    },
    {
      "cell_type": "code",
      "source": [
        "pickle.dump(cos_sim,open(\"similarity2.pkl\",\"wb\"))"
      ],
      "metadata": {
        "id": "MMG6h9rXCX2d"
      },
      "execution_count": null,
      "outputs": []
    },
    {
      "cell_type": "code",
      "source": [],
      "metadata": {
        "id": "KQm3sjlgCikz"
      },
      "execution_count": null,
      "outputs": []
    }
  ]
}